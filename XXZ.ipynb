{
 "cells": [
  {
   "cell_type": "code",
   "execution_count": 2,
   "metadata": {},
   "outputs": [],
   "source": [
    "import pennylane as qml\n",
    "from matplotlib import pyplot as plt\n",
    "import numpy as np\n",
    "import scipy\n",
    "import networkx as nx\n",
    "import copy\n",
    "import time"
   ]
  },
  {
   "cell_type": "code",
   "execution_count": 45,
   "metadata": {},
   "outputs": [],
   "source": [
    "qubit_number = 4\n",
    "qubits = range(qubit_number)"
   ]
  },
  {
   "cell_type": "code",
   "execution_count": 46,
   "metadata": {},
   "outputs": [],
   "source": [
    "G=nx.cycle_graph(qubit_number)"
   ]
  },
  {
   "cell_type": "code",
   "execution_count": 47,
   "metadata": {},
   "outputs": [
    {
     "data": {
      "text/plain": [
       "NodeView((0, 1, 2, 3))"
      ]
     },
     "execution_count": 47,
     "metadata": {},
     "output_type": "execute_result"
    }
   ],
   "source": [
    "for node in range(qubit_number):\n",
    "    G.add_node(node)\n",
    "    \n",
    "G.nodes()"
   ]
  },
  {
   "cell_type": "code",
   "execution_count": 48,
   "metadata": {},
   "outputs": [
    {
     "data": {
      "text/plain": [
       "4"
      ]
     },
     "execution_count": 48,
     "metadata": {},
     "output_type": "execute_result"
    }
   ],
   "source": [
    "for node in range(qubit_number):\n",
    "    if node<qubit_number-1: \n",
    "        G.add_edge(node,node+1)\n",
    "len(G.edges)"
   ]
  },
  {
   "cell_type": "code",
   "execution_count": 49,
   "metadata": {},
   "outputs": [
    {
     "data": {
      "image/png": "[encoded data removed]",
      "text/plain": [
       "<Figure size 432x288 with 1 Axes>"
      ]
     },
     "metadata": {},
     "output_type": "display_data"
    }
   ],
   "source": [
    "nx.draw(G) # because of periodic boundary condition"
   ]
  },
  {
   "cell_type": "code",
   "execution_count": 50,
   "metadata": {},
   "outputs": [],
   "source": [
    "def H_matrix(graph,delta,no_of_qubits):\n",
    "    # edge_weights= $\\theta_1$ parameters for interaction terms\n",
    "    # node_weights= $\\theta_2$ parameters for single qubit terms\n",
    "    \n",
    "    full_matrix=np.zeros((2**no_of_qubits,2**no_of_qubits))\n",
    "    \n",
    "    # creating the two qubit interation terms:\n",
    "    for i,edge in enumerate(graph.edges):\n",
    "        \n",
    "        zz_int=1\n",
    "        \n",
    "        for qubit in range(no_of_qubits):\n",
    "            \n",
    "            if qubit in edge:\n",
    "                # for only ZZ interaction \n",
    "                zz_int=np.kron(zz_int,qml.PauliZ.matrix)\n",
    "                \n",
    "            else:\n",
    "                zz_int=np.kron(zz_int,np.identity(2))\n",
    "                \n",
    "        full_matrix+=delta*zz_int\n",
    "        \n",
    "        \n",
    "    for i,edge in enumerate(graph.edges):\n",
    "        \n",
    "        xx_int=1\n",
    "        \n",
    "        for qubit in range(no_of_qubits):\n",
    "            \n",
    "            if qubit in edge:\n",
    "                # for only XX interaction \n",
    "                xx_int=np.kron(xx_int,qml.PauliX.matrix)\n",
    "                \n",
    "            else:\n",
    "                xx_int=np.kron(xx_int,np.identity(2))\n",
    "                \n",
    "        full_matrix+=xx_int\n",
    "        \n",
    "       \n",
    "    for i,edge in enumerate(graph.edges):\n",
    "        \n",
    "        yy_int=1\n",
    "        \n",
    "        for qubit in range(no_of_qubits):\n",
    "            \n",
    "            if qubit in edge:\n",
    "                # for only YY interaction \n",
    "                yy_int=np.kron(yy_int,qml.PauliY.matrix)\n",
    "                \n",
    "            else:\n",
    "                yy_int=np.kron(yy_int,np.identity(2))\n",
    "                \n",
    "        full_matrix = full_matrix + yy_int\n",
    "    \n",
    "    return full_matrix"
   ]
  },
  {
   "cell_type": "code",
   "execution_count": 51,
   "metadata": {},
   "outputs": [],
   "source": [
    "Ham=H_matrix(G,1,qubit_number)"
   ]
  },
  {
   "cell_type": "code",
   "execution_count": 52,
   "metadata": {},
   "outputs": [
    {
     "data": {
      "image/png": "[encoded data removed]",
      "text/plain": [
       "<Figure size 288x288 with 1 Axes>"
      ]
     },
     "metadata": {
      "needs_background": "light"
     },
     "output_type": "display_data"
    }
   ],
   "source": [
    "plt.matshow(np.real(Ham), cmap=\"hot\")\n",
    "plt.show()"
   ]
  },
  {
   "cell_type": "code",
   "execution_count": 53,
   "metadata": {},
   "outputs": [],
   "source": [
    "min_energy=(np.real_if_close(min(np.linalg.eig(Ham)[0])))"
   ]
  },
  {
   "cell_type": "code",
   "execution_count": 54,
   "metadata": {},
   "outputs": [
    {
     "name": "stdout",
     "output_type": "stream",
     "text": [
      "Minimum eigen energy:-8.000000000000004\n"
     ]
    }
   ],
   "source": [
    "print(f\"Minimum eigen energy:{min_energy}\")"
   ]
  },
  {
   "cell_type": "code",
   "execution_count": 55,
   "metadata": {},
   "outputs": [],
   "source": [
    "dev = qml.device(\"lightning.qubit\", wires= qubit_number) "
   ]
  },
  {
   "cell_type": "code",
   "execution_count": 56,
   "metadata": {},
   "outputs": [
    {
     "name": "stdout",
     "output_type": "stream",
     "text": [
      "length of wires 4\n",
      "wire-> 0\n",
      "wire-> 1\n",
      "wire-> 2\n",
      "wire-> 3\n",
      "length of edges 4\n"
     ]
    }
   ],
   "source": [
    "wires=list(range(qubit_number)) # will be used below\n",
    "print(\"length of wires\",len(wires))\n",
    "for i in wires:\n",
    "    print(\"wire->\",i)\n",
    "print(\"length of edges\",len(G.edges))"
   ]
  },
  {
   "cell_type": "code",
   "execution_count": 57,
   "metadata": {},
   "outputs": [],
   "source": [
    "def HVA_layer(Jij_params):\n",
    "    \n",
    "    \n",
    "    for i, edge in enumerate(G.edges):\n",
    "        qml.MultiRZ(Jij_params[i*3]*(-1), wires=(edge[0], edge[1]))\n",
    "        qml.IsingXX(Jij_params[i*3+1]*(-1), wires=(edge[0], edge[1]))\n",
    "        qml.IsingYY(Jij_params[i*3+2]*(-1), wires=(edge[0], edge[1]))"
   ]
  },
  {
   "cell_type": "code",
   "execution_count": 60,
   "metadata": {},
   "outputs": [],
   "source": [
    "coeffs_arr = np.concatenate([np.ones(qubit_number*2),np.ones(qubit_number)])"
   ]
  },
  {
   "cell_type": "code",
   "execution_count": 61,
   "metadata": {},
   "outputs": [
    {
     "name": "stdout",
     "output_type": "stream",
     "text": [
      "  (1.0) [Z0 Z1]\n",
      "+ (1.0) [Z1 Z2]\n",
      "+ (1.0) [Z2 Z3]\n",
      "+ (1.0) [Z3 Z0]\n",
      "+ (1.0) [X0 X1]\n",
      "+ (1.0) [X1 X2]\n",
      "+ (1.0) [X2 X3]\n",
      "+ (1.0) [X3 X0]\n",
      "+ (1.0) [Y0 Y1]\n",
      "+ (1.0) [Y1 Y2]\n",
      "+ (1.0) [Y2 Y3]\n",
      "+ (1.0) [Y3 Y0]\n",
      "1\n"
     ]
    }
   ],
   "source": [
    "H=[]\n",
    "obs=[]\n",
    "\n",
    "for i in range(qubit_number):\n",
    "    if i<qubit_number-1:\n",
    "        obs.append(qml.PauliZ(i)@qml.PauliZ(i+1))\n",
    "    else:\n",
    "        obs.append(qml.PauliZ(i)@qml.PauliZ(0))\n",
    "\n",
    "for i in range(qubit_number):\n",
    "    if i<qubit_number-1:\n",
    "        obs.append(qml.PauliX(i)@qml.PauliX(i+1))\n",
    "    else:\n",
    "        obs.append(qml.PauliX(i)@qml.PauliX(0))    \n",
    "    \n",
    "for i in range(qubit_number):\n",
    "    if i<qubit_number-1:\n",
    "        obs.append(qml.PauliY(i)@qml.PauliY(i+1))\n",
    "    else:\n",
    "        obs.append(qml.PauliY(i)@qml.PauliY(0)) \n",
    "        \n",
    "H.append(qml.Hamiltonian(coeffs_arr, obs))\n",
    "print((H)[0])\n",
    "print(len(H))"
   ]
  },
  {
   "cell_type": "code",
   "execution_count": 62,
   "metadata": {},
   "outputs": [],
   "source": [
    "depth=1 #int(qubit_number/2)"
   ]
  },
  {
   "cell_type": "code",
   "execution_count": 63,
   "metadata": {},
   "outputs": [
    {
     "data": {
      "text/plain": [
       "12"
      ]
     },
     "execution_count": 63,
     "metadata": {},
     "output_type": "execute_result"
    }
   ],
   "source": [
    "params=np.random.rand(len(G.edges)*3*depth)\n",
    "len(params)"
   ]
  },
  {
   "cell_type": "code",
   "execution_count": 68,
   "metadata": {},
   "outputs": [],
   "source": [
    "#@qml.qnode(dev)\n",
    "def full_HVA_ansatz(params, **kwargs):\n",
    "    [qml.PauliX(wires=i) for i in range(qubit_number)]\n",
    "    [qml.Hadamard(wires=2*i) for i in range(int(qubit_number/2))]\n",
    "    [qml.CNOT(wires=[2*i,2*i+1]) for i in range(int(qubit_number/2))]\n",
    "    for i in range(depth):\n",
    "        HVA_layer(params[int(len(params)/depth)*i:int(len(params)/depth)*(i+1)])\n",
    "    \n",
    "#    return qml.state()  "
   ]
  },
  {
   "cell_type": "code",
   "execution_count": 69,
   "metadata": {},
   "outputs": [
    {
     "name": "stdout",
     "output_type": "stream",
     "text": [
      "Time taken:  4.9897034962972005e-05  mins.\n"
     ]
    }
   ],
   "source": [
    "start_time = time.time()    \n",
    "\n",
    "cost_fn=qml.ExpvalCost(full_HVA_ansatz,H[0],dev)\n",
    "    \n",
    "end_time = time.time()\n",
    "print('Time taken: ', (end_time-start_time)/60, ' mins.')"
   ]
  },
  {
   "cell_type": "code",
   "execution_count": 70,
   "metadata": {},
   "outputs": [
    {
     "name": "stdout",
     "output_type": "stream",
     "text": [
      "Time taken:  0.0017579158147176107  mins.\n"
     ]
    }
   ],
   "source": [
    "start_time = time.time()    \n",
    "cost_fn(params)\n",
    "end_time = time.time()\n",
    "print('Time taken: ', (end_time-start_time)/60, ' mins.')"
   ]
  },
  {
   "cell_type": "code",
   "execution_count": 75,
   "metadata": {},
   "outputs": [],
   "source": [
    "par_arr=[]\n",
    "costarr=[]\n",
    "opt_val_arr=[]"
   ]
  },
  {
   "cell_type": "code",
   "execution_count": 76,
   "metadata": {},
   "outputs": [
    {
     "name": "stdout",
     "output_type": "stream",
     "text": [
      "Cost at Step 10: -7.936627946390688\n",
      "Cost at Step 20: -7.977215593604184\n",
      "Cost at Step 30: -7.990946898638981\n",
      "Cost at Step 40: -7.996808617874053\n",
      "Cost at Step 50: -7.998660238870704\n",
      "Cost at Step 60: -7.999613551522336\n",
      "Cost at Step 70: -7.999930878953451\n",
      "Cost at Step 80: -7.999953949172532\n",
      "Cost at Step 90: -7.999980204931132\n",
      "Cost at Step 100: -7.999998958906115\n",
      "Time taken:  2.2031587918599445  mins.\n"
     ]
    }
   ],
   "source": [
    "start_time = time.time()    \n",
    "\n",
    "optimizer = qml.AdamOptimizer(stepsize=0.1)\n",
    "#params=np.random.rand(len(G.edges))*0.1\n",
    "\n",
    "for j in range(0, 100+1):\n",
    "    params, cost = optimizer.step_and_cost(cost_fn, params)\n",
    "\n",
    "# Prints the value of the cost function\n",
    "    if j!=0 and j % 10 == 0:\n",
    "        print(f\"Cost at Step {j}: {cost}\")\n",
    "\n",
    "        costarr.append(cost)\n",
    "        par_arr.append(params)\n",
    "opt_val_arr.append(cost)\n",
    "\n",
    "end_time = time.time()\n",
    "print('Time taken: ', (end_time-start_time)/60, ' mins.')"
   ]
  },
  {
   "cell_type": "code",
   "execution_count": 82,
   "metadata": {},
   "outputs": [
    {
     "data": {
      "image/png": "[encoded data removed]",
      "text/plain": [
       "<Figure size 432x288 with 1 Axes>"
      ]
     },
     "metadata": {
      "needs_background": "light"
     },
     "output_type": "display_data"
    }
   ],
   "source": [
    "x=np.linspace(0,100,10)\n",
    "n=np.ones(len(x))*min_energy\n",
    "plt.plot(x,costarr,\"black\",label=\"Using HVA\")\n",
    "plt.plot(x,n,\"blue\",label=\"Using HVA\")\n",
    "plt.ylabel(\"Ground state energy\", fontsize=18)\n",
    "plt.xlabel(\"Steps\", fontsize=18)\n",
    "plt.tick_params(axis=\"both\", colors='black',which=\"major\", labelsize=16)   # helps to increase the size of the values in X and Y axis\n",
    "plt.tick_params(axis=\"both\", colors='black', which=\"minor\", labelsize=16)\n",
    "#plt.ylim(-14, -6)\n",
    "plt.legend()\n",
    "plt.show()"
   ]
  },
  {
   "cell_type": "code",
   "execution_count": null,
   "metadata": {},
   "outputs": [],
   "source": []
  }
 ],
 "metadata": {
  "kernelspec": {
   "display_name": "Python 3",
   "language": "python",
   "name": "python3"
  },
  "language_info": {
   "codemirror_mode": {
    "name": "ipython",
    "version": 3
   },
   "file_extension": ".py",
   "mimetype": "text/x-python",
   "name": "python",
   "nbconvert_exporter": "python",
   "pygments_lexer": "ipython3",
   "version": "3.8.5"
  }
 },
 "nbformat": 4,
 "nbformat_minor": 4
}
